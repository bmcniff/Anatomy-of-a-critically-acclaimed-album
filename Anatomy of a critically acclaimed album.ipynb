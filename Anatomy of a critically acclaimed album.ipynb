{
 "cells": [
  {
   "cell_type": "markdown",
   "metadata": {},
   "source": [
    "# Anatomy of a critically acclaimed album\n",
    "\n",
    "This project sets out to determine what features the top 200 albums in Pitchfork's article: \"The 200 Best Albums of the 2010s\" have in common. Additionally, this project will look at the features of these tracks and how they deviate from the average track.\n",
    "\n",
    "Metrics used to evaluate albums/songs from this list will be pulled from Spotify's API. Features examined include genre, Spotify followers, popularity, and Spotify's audio feature metrics. These metrics are determined using predictive models and describe some of the abstract characteristics of the audio (energy, tempo, etc.)"
   ]
  },
  {
   "cell_type": "markdown",
   "metadata": {},
   "source": [
    "## Data Cleaning"
   ]
  },
  {
   "cell_type": "markdown",
   "metadata": {},
   "source": [
    "## Library Import"
   ]
  },
  {
   "cell_type": "code",
   "execution_count": 37,
   "metadata": {},
   "outputs": [
    {
     "name": "stdout",
     "output_type": "stream",
     "text": [
      "Populating the interactive namespace from numpy and matplotlib\n"
     ]
    },
    {
     "name": "stderr",
     "output_type": "stream",
     "text": [
      "/usr/local/lib/python3.7/site-packages/IPython/core/magics/pylab.py:160: UserWarning: pylab import has clobbered these variables: ['rank']\n",
      "`%matplotlib` prevents importing * from pylab and numpy\n",
      "  \"\\n`%matplotlib` prevents importing * from pylab and numpy\"\n"
     ]
    }
   ],
   "source": [
    "import pandas as pd\n",
    "import sys\n",
    "import spotipy\n",
    "import spotipy.util as util\n",
    "import matplotlib.pyplot as plt\n",
    "import numpy as np\n",
    "from collections import Counter\n",
    "%pylab inline\n",
    "import matplotlib.pyplot as plt\n",
    "import matplotlib.image as mpimg"
   ]
  },
  {
   "cell_type": "markdown",
   "metadata": {},
   "source": [
    "## Connecting to Spotify API"
   ]
  },
  {
   "cell_type": "code",
   "execution_count": 7,
   "metadata": {},
   "outputs": [
    {
     "name": "stdout",
     "output_type": "stream",
     "text": [
      "env: SPOTIPY_CLIENT_ID='21c1b8031b824649882cc70268cb6d72'\n",
      "env: SPOTIPY_CLIENT_SECRET='13872f23f56840e396124aaf02081b6e'\n",
      "env: SPOTIPY_REDIRECT_URI='http://google.com/'\n"
     ]
    }
   ],
   "source": [
    "%env SPOTIPY_CLIENT_ID='21c1b8031b824649882cc70268cb6d72'\n",
    "%env SPOTIPY_CLIENT_SECRET='13872f23f56840e396124aaf02081b6e'\n",
    "%env SPOTIPY_REDIRECT_URI='http://google.com/'\n",
    "\n",
    "scope = 'user-library-read'\n",
    "\n",
    "if len(sys.argv) > 1:\n",
    "    username = sys.argv[1]\n",
    "else:\n",
    "    print(\"Usage: %s username\" % (sys.argv[0],))\n",
    "    sys.exit()\n",
    "\n",
    "util.prompt_for_user_token(username,\n",
    "                           scope,\n",
    "                           client_id='21c1b8031b824649882cc70268cb6d72',\n",
    "                           client_secret='13872f23f56840e396124aaf02081b6e',\n",
    "                           redirect_uri='http://google.com/')\n",
    "\n",
    "token = util.prompt_for_user_token(username, scope)\n",
    "\n",
    "spotify = spotipy.Spotify(auth=token)"
   ]
  },
  {
   "cell_type": "markdown",
   "metadata": {},
   "source": [
    "## Import Pitchfork data\n",
    "\n",
    "Data has been scraped from the source article - https://pitchfork.com/features/lists-and-guides/the-200-best-albums-of-the-2010s/"
   ]
  },
  {
   "cell_type": "code",
   "execution_count": 8,
   "metadata": {},
   "outputs": [],
   "source": [
    "pitchfork_df = pd.read_csv('datasets/pitchfork_top_200 (1).csv')"
   ]
  },
  {
   "cell_type": "code",
   "execution_count": 9,
   "metadata": {},
   "outputs": [
    {
     "data": {
      "text/html": [
       "<div>\n",
       "<style scoped>\n",
       "    .dataframe tbody tr th:only-of-type {\n",
       "        vertical-align: middle;\n",
       "    }\n",
       "\n",
       "    .dataframe tbody tr th {\n",
       "        vertical-align: top;\n",
       "    }\n",
       "\n",
       "    .dataframe thead th {\n",
       "        text-align: right;\n",
       "    }\n",
       "</style>\n",
       "<table border=\"1\" class=\"dataframe\">\n",
       "  <thead>\n",
       "    <tr style=\"text-align: right;\">\n",
       "      <th></th>\n",
       "      <th>Rank</th>\n",
       "      <th>Artist</th>\n",
       "      <th>Album</th>\n",
       "      <th>Year</th>\n",
       "    </tr>\n",
       "  </thead>\n",
       "  <tbody>\n",
       "    <tr>\n",
       "      <th>0</th>\n",
       "      <td>200</td>\n",
       "      <td>Ratking</td>\n",
       "      <td>So It Goes</td>\n",
       "      <td>2014</td>\n",
       "    </tr>\n",
       "    <tr>\n",
       "      <th>1</th>\n",
       "      <td>199</td>\n",
       "      <td>Wu Lyf</td>\n",
       "      <td>Go Tell Fire to the Mountain</td>\n",
       "      <td>2011</td>\n",
       "    </tr>\n",
       "    <tr>\n",
       "      <th>2</th>\n",
       "      <td>198</td>\n",
       "      <td>Jean Grae</td>\n",
       "      <td>Everything’s Fine</td>\n",
       "      <td>2018</td>\n",
       "    </tr>\n",
       "    <tr>\n",
       "      <th>3</th>\n",
       "      <td>197</td>\n",
       "      <td>Fatima Al Qadiri</td>\n",
       "      <td>Genre-Specific Xperience</td>\n",
       "      <td>2011</td>\n",
       "    </tr>\n",
       "    <tr>\n",
       "      <th>4</th>\n",
       "      <td>196</td>\n",
       "      <td>Portal</td>\n",
       "      <td>Vexovoid</td>\n",
       "      <td>2013</td>\n",
       "    </tr>\n",
       "  </tbody>\n",
       "</table>\n",
       "</div>"
      ],
      "text/plain": [
       "   Rank            Artist                           Album  Year\n",
       "0   200           Ratking                     So It Goes   2014\n",
       "1   199            Wu Lyf   Go Tell Fire to the Mountain   2011\n",
       "2   198         Jean Grae              Everything’s Fine   2018\n",
       "3   197  Fatima Al Qadiri       Genre-Specific Xperience   2011\n",
       "4   196            Portal                       Vexovoid   2013"
      ]
     },
     "execution_count": 9,
     "metadata": {},
     "output_type": "execute_result"
    }
   ],
   "source": [
    "pitchfork_df.head()"
   ]
  },
  {
   "cell_type": "markdown",
   "metadata": {},
   "source": [
    "## Generate following data for each artist in Pitchfork list"
   ]
  },
  {
   "cell_type": "markdown",
   "metadata": {},
   "source": [
    "Spotify assigns a unique id to each artist. Artist ids have been manually cleaned/verified. Spotify also has unique ids for each album, playlist, and track."
   ]
  },
  {
   "cell_type": "code",
   "execution_count": 12,
   "metadata": {},
   "outputs": [],
   "source": [
    "artist_ids = pd.read_csv('datasets/artist_ids.csv')"
   ]
  },
  {
   "cell_type": "code",
   "execution_count": 25,
   "metadata": {},
   "outputs": [
    {
     "data": {
      "text/plain": [
       "0             Ratking\n",
       "1              Wu Lyf\n",
       "2           Jean Grae\n",
       "3    Fatima Al Qadiri\n",
       "4              Portal\n",
       "5       Downtown Boys\n",
       "6    Titus Andronicus\n",
       "7            Lil Peep\n",
       "8              Kelela\n",
       "9           Kate Bush\n",
       "Name: Artist, dtype: object"
      ]
     },
     "execution_count": 25,
     "metadata": {},
     "output_type": "execute_result"
    }
   ],
   "source": [
    "artist_ids['Artist'].head(10)"
   ]
  },
  {
   "cell_type": "markdown",
   "metadata": {},
   "source": [
    "## Pull following data from Spotify"
   ]
  },
  {
   "cell_type": "code",
   "execution_count": 14,
   "metadata": {},
   "outputs": [],
   "source": [
    "ids = []\n",
    "genres = []\n",
    "followers = []\n",
    "popularity = []\n",
    "rank = rank = np.arange(1, 201, 1).tolist()\n",
    "rank = rank[::-1]\n",
    "\n",
    "for artist_name in artist_ids['id']:\n",
    "    results = spotify.artist('spotify:artist:'+artist_name)\n",
    "    ids.append(results['id'])\n",
    "    genres.append(results['genres'])\n",
    "    followers.append(results['followers']['total'])\n",
    "    popularity.append(results['popularity'])\n",
    "\n",
    "#Merge colunmns to create spotify df\n",
    "artist_info = list(zip(ids, genres, followers, popularity, rank))\n",
    "artist_info_df = pd.DataFrame(artist_info, columns = ['id', 'genre', 'followers', 'popularity', 'rank'])"
   ]
  },
  {
   "cell_type": "code",
   "execution_count": 15,
   "metadata": {},
   "outputs": [],
   "source": [
    "#Merge dfs\n",
    "pf_artist_info = pitchfork_df.merge(artist_info_df, left_on = 'Rank', right_on = 'rank')"
   ]
  },
  {
   "cell_type": "code",
   "execution_count": 16,
   "metadata": {},
   "outputs": [],
   "source": [
    "#Search for album name, return album_id\n",
    "spotify = spotipy.Spotify(auth=token)\n",
    "\n",
    "alb_ids = artist_ids['album_id']"
   ]
  },
  {
   "cell_type": "code",
   "execution_count": 17,
   "metadata": {},
   "outputs": [],
   "source": [
    "#Merge columns to create album_id/rank df\n",
    "album_id_list = list(zip(alb_ids, rank))\n",
    "album_id_df = pd.DataFrame(album_id_list, columns = ['album_id', 'rank'])"
   ]
  },
  {
   "cell_type": "code",
   "execution_count": 18,
   "metadata": {},
   "outputs": [],
   "source": [
    "#For each album, return each track_id\n",
    "album_id_track_level = []\n",
    "track_id = []\n",
    "\n",
    "for album in alb_ids:\n",
    "    results = spotify.album_tracks('spotify:album:'+str(album))\n",
    "    for i in range(len(results['items'])):\n",
    "        album_id_track_level.append(album)\n",
    "        track_id.append(results['items'][i]['id'])"
   ]
  },
  {
   "cell_type": "code",
   "execution_count": 19,
   "metadata": {},
   "outputs": [],
   "source": [
    "#Merge columns to create album_id/track_id df\n",
    "id_list = list(zip(album_id_track_level, track_id))\n",
    "id_df = pd.DataFrame(id_list, columns = ['album_id', 'track_id'])"
   ]
  },
  {
   "cell_type": "code",
   "execution_count": 21,
   "metadata": {},
   "outputs": [],
   "source": [
    "#Merge pf, artist, and album info into df\n",
    "pf_artist_album_info = pf_artist_info.merge(album_id_df, on = 'rank')"
   ]
  },
  {
   "cell_type": "code",
   "execution_count": 29,
   "metadata": {},
   "outputs": [],
   "source": [
    "pf_artist_album_info = pf_artist_album_info[['Rank', 'Artist', 'Album', 'id', 'genre', 'followers', 'popularity', 'album_id']]"
   ]
  },
  {
   "cell_type": "code",
   "execution_count": 30,
   "metadata": {},
   "outputs": [
    {
     "data": {
      "text/html": [
       "<div>\n",
       "<style scoped>\n",
       "    .dataframe tbody tr th:only-of-type {\n",
       "        vertical-align: middle;\n",
       "    }\n",
       "\n",
       "    .dataframe tbody tr th {\n",
       "        vertical-align: top;\n",
       "    }\n",
       "\n",
       "    .dataframe thead th {\n",
       "        text-align: right;\n",
       "    }\n",
       "</style>\n",
       "<table border=\"1\" class=\"dataframe\">\n",
       "  <thead>\n",
       "    <tr style=\"text-align: right;\">\n",
       "      <th></th>\n",
       "      <th>Rank</th>\n",
       "      <th>Artist</th>\n",
       "      <th>Album</th>\n",
       "      <th>id</th>\n",
       "      <th>genre</th>\n",
       "      <th>followers</th>\n",
       "      <th>popularity</th>\n",
       "      <th>album_id</th>\n",
       "    </tr>\n",
       "  </thead>\n",
       "  <tbody>\n",
       "    <tr>\n",
       "      <th>0</th>\n",
       "      <td>200</td>\n",
       "      <td>Ratking</td>\n",
       "      <td>So It Goes</td>\n",
       "      <td>2xtXCUTxmekNFB8oIYuOfe</td>\n",
       "      <td>[escape room]</td>\n",
       "      <td>27171</td>\n",
       "      <td>31</td>\n",
       "      <td>3hXl1HiPIzbR1alZy3Eaf3</td>\n",
       "    </tr>\n",
       "    <tr>\n",
       "      <th>1</th>\n",
       "      <td>199</td>\n",
       "      <td>Wu Lyf</td>\n",
       "      <td>Go Tell Fire to the Mountain</td>\n",
       "      <td>5mGTnJvTkLDN76DgXka5f0</td>\n",
       "      <td>[chillwave]</td>\n",
       "      <td>33907</td>\n",
       "      <td>32</td>\n",
       "      <td>3YUCk9Q1vjWsZsTur93sQP</td>\n",
       "    </tr>\n",
       "    <tr>\n",
       "      <th>2</th>\n",
       "      <td>198</td>\n",
       "      <td>Jean Grae</td>\n",
       "      <td>Everything’s Fine</td>\n",
       "      <td>2ipBhKpOYqs6BbysLNGye6</td>\n",
       "      <td>[alternative hip hop, east coast hip hop, esca...</td>\n",
       "      <td>40597</td>\n",
       "      <td>43</td>\n",
       "      <td>22oHrB4SLwayyuLE02t5BD</td>\n",
       "    </tr>\n",
       "    <tr>\n",
       "      <th>3</th>\n",
       "      <td>197</td>\n",
       "      <td>Fatima Al Qadiri</td>\n",
       "      <td>Genre-Specific Xperience</td>\n",
       "      <td>1pfunEyqsC4oKSBY9gr8lN</td>\n",
       "      <td>[arab electronic, art pop, deconstructed club,...</td>\n",
       "      <td>25649</td>\n",
       "      <td>30</td>\n",
       "      <td>3SHUtCuskxWnDgBHhupzaF</td>\n",
       "    </tr>\n",
       "    <tr>\n",
       "      <th>4</th>\n",
       "      <td>196</td>\n",
       "      <td>Portal</td>\n",
       "      <td>Vexovoid</td>\n",
       "      <td>1WiZz4d759EPtACSUBEfmt</td>\n",
       "      <td>[australian black metal, australian metal, lov...</td>\n",
       "      <td>18518</td>\n",
       "      <td>24</td>\n",
       "      <td>0PtGwwqM6zFvawkY3JHtfq</td>\n",
       "    </tr>\n",
       "  </tbody>\n",
       "</table>\n",
       "</div>"
      ],
      "text/plain": [
       "   Rank            Artist                           Album  \\\n",
       "0   200           Ratking                     So It Goes    \n",
       "1   199            Wu Lyf   Go Tell Fire to the Mountain    \n",
       "2   198         Jean Grae              Everything’s Fine    \n",
       "3   197  Fatima Al Qadiri       Genre-Specific Xperience    \n",
       "4   196            Portal                       Vexovoid    \n",
       "\n",
       "                       id                                              genre  \\\n",
       "0  2xtXCUTxmekNFB8oIYuOfe                                      [escape room]   \n",
       "1  5mGTnJvTkLDN76DgXka5f0                                        [chillwave]   \n",
       "2  2ipBhKpOYqs6BbysLNGye6  [alternative hip hop, east coast hip hop, esca...   \n",
       "3  1pfunEyqsC4oKSBY9gr8lN  [arab electronic, art pop, deconstructed club,...   \n",
       "4  1WiZz4d759EPtACSUBEfmt  [australian black metal, australian metal, lov...   \n",
       "\n",
       "   followers  popularity                album_id  \n",
       "0      27171          31  3hXl1HiPIzbR1alZy3Eaf3  \n",
       "1      33907          32  3YUCk9Q1vjWsZsTur93sQP  \n",
       "2      40597          43  22oHrB4SLwayyuLE02t5BD  \n",
       "3      25649          30  3SHUtCuskxWnDgBHhupzaF  \n",
       "4      18518          24  0PtGwwqM6zFvawkY3JHtfq  "
      ]
     },
     "execution_count": 30,
     "metadata": {},
     "output_type": "execute_result"
    }
   ],
   "source": [
    "pf_artist_album_info.head()"
   ]
  },
  {
   "cell_type": "code",
   "execution_count": 23,
   "metadata": {},
   "outputs": [],
   "source": [
    "#Export data to csv\n",
    "pf_artist_album_info.to_csv('datasets/artist_info.csv')"
   ]
  },
  {
   "cell_type": "markdown",
   "metadata": {},
   "source": [
    "## Pull song data from Spotify\n",
    "\n",
    "Pull the following metrics from Spotify."
   ]
  },
  {
   "cell_type": "code",
   "execution_count": 24,
   "metadata": {},
   "outputs": [],
   "source": [
    "danceability = []\n",
    "energy = []\n",
    "key = []\n",
    "loudness = []\n",
    "mode = []\n",
    "speechiness = []\n",
    "acousticness = []\n",
    "instrumentalness = []\n",
    "liveness = []\n",
    "valence = []\n",
    "tempo = []\n",
    "duration_ms = []\n",
    "time_signature = []\n",
    "\n",
    "for track in id_df['track_id']:\n",
    "\n",
    "    result = spotify.audio_features(track)[0]\n",
    "    try:\n",
    "        danceability.append(result['danceability'])\n",
    "    except:\n",
    "        danceability.append(None)\n",
    "\n",
    "    try:\n",
    "        energy.append(result['energy'])\n",
    "    except:\n",
    "        energy.append(None)\n",
    "\n",
    "    try:\n",
    "        key.append(result['key'])\n",
    "    except:\n",
    "        key.append(None)\n",
    "\n",
    "    try:\n",
    "        loudness.append(result['loudness'])\n",
    "    except:\n",
    "        loudness.append(None)\n",
    "\n",
    "    try:\n",
    "        mode.append(result['mode'])\n",
    "    except:\n",
    "        mode.append(None)\n",
    "\n",
    "    try:\n",
    "        speechiness.append(result['speechiness'])\n",
    "    except:\n",
    "        speechiness.append(None)\n",
    "\n",
    "    try:\n",
    "        acousticness.append(result['acousticness'])\n",
    "    except:\n",
    "        acousticness.append(None)\n",
    "\n",
    "    try:\n",
    "        instrumentalness.append(result['instrumentalness'])\n",
    "    except:\n",
    "        instrumentalness.append(None)\n",
    "\n",
    "    try:\n",
    "        liveness.append(result['liveness'])\n",
    "    except:\n",
    "        liveness.append(None)\n",
    "\n",
    "    try:\n",
    "        valence.append(result['valence'])\n",
    "    except:\n",
    "        valence.append(None)\n",
    "\n",
    "    try:\n",
    "        tempo.append(result['tempo'])\n",
    "    except:\n",
    "        tempo.append(None)\n",
    "\n",
    "    try:\n",
    "        duration_ms.append(result['duration_ms'])\n",
    "    except:\n",
    "        duration_ms.append(None)\n",
    "\n",
    "    try:\n",
    "        time_signature.append(result['time_signature'])\n",
    "    except:\n",
    "        time_signature.append(None)"
   ]
  },
  {
   "cell_type": "code",
   "execution_count": 34,
   "metadata": {},
   "outputs": [],
   "source": [
    "#Merge columns into song features df\n",
    "features_list = list(zip(id_df['album_id'],\n",
    "danceability,\n",
    "energy,\n",
    "key,\n",
    "loudness,\n",
    "mode,\n",
    "speechiness,\n",
    "acousticness,\n",
    "instrumentalness,\n",
    "liveness,\n",
    "valence,\n",
    "tempo,\n",
    "duration_ms,))\n",
    "\n",
    "features_df = pd.DataFrame(features_list, columns = ['album_id',\n",
    "'danceability',\n",
    "'energy',\n",
    "'key',\n",
    "'loudness',\n",
    "'mode',\n",
    "'speechiness',\n",
    "'acousticness',\n",
    "'instrumentalness',\n",
    "'liveness',\n",
    "'valence',\n",
    "'tempo',\n",
    "'duration_ms',])"
   ]
  },
  {
   "cell_type": "code",
   "execution_count": 35,
   "metadata": {},
   "outputs": [
    {
     "data": {
      "text/html": [
       "<div>\n",
       "<style scoped>\n",
       "    .dataframe tbody tr th:only-of-type {\n",
       "        vertical-align: middle;\n",
       "    }\n",
       "\n",
       "    .dataframe tbody tr th {\n",
       "        vertical-align: top;\n",
       "    }\n",
       "\n",
       "    .dataframe thead th {\n",
       "        text-align: right;\n",
       "    }\n",
       "</style>\n",
       "<table border=\"1\" class=\"dataframe\">\n",
       "  <thead>\n",
       "    <tr style=\"text-align: right;\">\n",
       "      <th></th>\n",
       "      <th>album_id</th>\n",
       "      <th>danceability</th>\n",
       "      <th>energy</th>\n",
       "      <th>key</th>\n",
       "      <th>loudness</th>\n",
       "      <th>mode</th>\n",
       "      <th>speechiness</th>\n",
       "      <th>acousticness</th>\n",
       "      <th>instrumentalness</th>\n",
       "      <th>liveness</th>\n",
       "      <th>valence</th>\n",
       "      <th>tempo</th>\n",
       "      <th>duration_ms</th>\n",
       "    </tr>\n",
       "  </thead>\n",
       "  <tbody>\n",
       "    <tr>\n",
       "      <th>0</th>\n",
       "      <td>3hXl1HiPIzbR1alZy3Eaf3</td>\n",
       "      <td>0.343</td>\n",
       "      <td>0.981</td>\n",
       "      <td>10</td>\n",
       "      <td>-2.920</td>\n",
       "      <td>0</td>\n",
       "      <td>0.3930</td>\n",
       "      <td>0.007490</td>\n",
       "      <td>0.251000</td>\n",
       "      <td>0.152</td>\n",
       "      <td>0.365</td>\n",
       "      <td>159.337</td>\n",
       "      <td>237895</td>\n",
       "    </tr>\n",
       "    <tr>\n",
       "      <th>1</th>\n",
       "      <td>3hXl1HiPIzbR1alZy3Eaf3</td>\n",
       "      <td>0.493</td>\n",
       "      <td>0.852</td>\n",
       "      <td>2</td>\n",
       "      <td>-2.640</td>\n",
       "      <td>0</td>\n",
       "      <td>0.0731</td>\n",
       "      <td>0.000116</td>\n",
       "      <td>0.021700</td>\n",
       "      <td>0.514</td>\n",
       "      <td>0.395</td>\n",
       "      <td>135.284</td>\n",
       "      <td>183065</td>\n",
       "    </tr>\n",
       "    <tr>\n",
       "      <th>2</th>\n",
       "      <td>3hXl1HiPIzbR1alZy3Eaf3</td>\n",
       "      <td>0.258</td>\n",
       "      <td>0.969</td>\n",
       "      <td>7</td>\n",
       "      <td>-1.672</td>\n",
       "      <td>0</td>\n",
       "      <td>0.4050</td>\n",
       "      <td>0.003470</td>\n",
       "      <td>0.000043</td>\n",
       "      <td>0.628</td>\n",
       "      <td>0.473</td>\n",
       "      <td>175.756</td>\n",
       "      <td>402688</td>\n",
       "    </tr>\n",
       "    <tr>\n",
       "      <th>3</th>\n",
       "      <td>3hXl1HiPIzbR1alZy3Eaf3</td>\n",
       "      <td>0.426</td>\n",
       "      <td>0.733</td>\n",
       "      <td>2</td>\n",
       "      <td>-3.739</td>\n",
       "      <td>1</td>\n",
       "      <td>0.1720</td>\n",
       "      <td>0.051100</td>\n",
       "      <td>0.001260</td>\n",
       "      <td>0.294</td>\n",
       "      <td>0.268</td>\n",
       "      <td>159.645</td>\n",
       "      <td>282380</td>\n",
       "    </tr>\n",
       "    <tr>\n",
       "      <th>4</th>\n",
       "      <td>3hXl1HiPIzbR1alZy3Eaf3</td>\n",
       "      <td>0.485</td>\n",
       "      <td>0.920</td>\n",
       "      <td>6</td>\n",
       "      <td>-4.118</td>\n",
       "      <td>1</td>\n",
       "      <td>0.4150</td>\n",
       "      <td>0.147000</td>\n",
       "      <td>0.000000</td>\n",
       "      <td>0.194</td>\n",
       "      <td>0.448</td>\n",
       "      <td>127.809</td>\n",
       "      <td>188824</td>\n",
       "    </tr>\n",
       "  </tbody>\n",
       "</table>\n",
       "</div>"
      ],
      "text/plain": [
       "                 album_id  danceability  energy  key  loudness  mode  \\\n",
       "0  3hXl1HiPIzbR1alZy3Eaf3         0.343   0.981   10    -2.920     0   \n",
       "1  3hXl1HiPIzbR1alZy3Eaf3         0.493   0.852    2    -2.640     0   \n",
       "2  3hXl1HiPIzbR1alZy3Eaf3         0.258   0.969    7    -1.672     0   \n",
       "3  3hXl1HiPIzbR1alZy3Eaf3         0.426   0.733    2    -3.739     1   \n",
       "4  3hXl1HiPIzbR1alZy3Eaf3         0.485   0.920    6    -4.118     1   \n",
       "\n",
       "   speechiness  acousticness  instrumentalness  liveness  valence    tempo  \\\n",
       "0       0.3930      0.007490          0.251000     0.152    0.365  159.337   \n",
       "1       0.0731      0.000116          0.021700     0.514    0.395  135.284   \n",
       "2       0.4050      0.003470          0.000043     0.628    0.473  175.756   \n",
       "3       0.1720      0.051100          0.001260     0.294    0.268  159.645   \n",
       "4       0.4150      0.147000          0.000000     0.194    0.448  127.809   \n",
       "\n",
       "   duration_ms  \n",
       "0       237895  \n",
       "1       183065  \n",
       "2       402688  \n",
       "3       282380  \n",
       "4       188824  "
      ]
     },
     "execution_count": 35,
     "metadata": {},
     "output_type": "execute_result"
    }
   ],
   "source": [
    "features_df.head()"
   ]
  },
  {
   "cell_type": "code",
   "execution_count": 36,
   "metadata": {},
   "outputs": [],
   "source": [
    "#Export data to csv\n",
    "features_df.to_csv('datasets/spotify_features.csv')"
   ]
  },
  {
   "cell_type": "markdown",
   "metadata": {},
   "source": [
    "# Data Exploration"
   ]
  },
  {
   "cell_type": "markdown",
   "metadata": {},
   "source": [
    "## Data Import"
   ]
  },
  {
   "cell_type": "code",
   "execution_count": 38,
   "metadata": {},
   "outputs": [],
   "source": [
    "#Import info on album and artist (including pitchfork ranking)\n",
    "artist_df = pd.read_csv('datasets/artist_info.csv')"
   ]
  },
  {
   "cell_type": "code",
   "execution_count": 39,
   "metadata": {},
   "outputs": [],
   "source": [
    "#Import song data from Spotify\n",
    "song_df = pd.read_csv('datasets/spotify_features.csv')"
   ]
  },
  {
   "cell_type": "markdown",
   "metadata": {},
   "source": [
    "## Data Exploration"
   ]
  },
  {
   "cell_type": "markdown",
   "metadata": {},
   "source": [
    "### Year Distribution"
   ]
  },
  {
   "cell_type": "code",
   "execution_count": 58,
   "metadata": {},
   "outputs": [],
   "source": [
    "year_dist = pd.DataFrame(np.array(np.unique(artist_df['Year'], return_counts=True)).T)"
   ]
  },
  {
   "cell_type": "code",
   "execution_count": 59,
   "metadata": {},
   "outputs": [
    {
     "data": {
      "image/png": "[encoded data removed]",
      "text/plain": [
       "<Figure size 432x288 with 1 Axes>"
      ]
     },
     "metadata": {
      "needs_background": "light"
     },
     "output_type": "display_data"
    }
   ],
   "source": [
    "plt.bar(year_dist[0], year_dist[1], color = 'tomato')\n",
    "plt.xlabel('Year')\n",
    "plt.ylabel('# of albums')\n",
    "plt.show()"
   ]
  },
  {
   "cell_type": "markdown",
   "metadata": {},
   "source": [
    "### Key Distribution"
   ]
  },
  {
   "cell_type": "code",
   "execution_count": 42,
   "metadata": {},
   "outputs": [
    {
     "data": {
      "image/png": "[encoded data removed]",
      "text/plain": [
       "<Figure size 432x288 with 1 Axes>"
      ]
     },
     "metadata": {
      "needs_background": "light"
     },
     "output_type": "display_data"
    }
   ],
   "source": [
    "plt.hist(song_df['key'], color = 'tomato')\n",
    "plt.xlabel('Key')\n",
    "plt.ylabel('# of songs')\n",
    "plt.show()"
   ]
  },
  {
   "cell_type": "markdown",
   "metadata": {},
   "source": [
    "The overall estimated overall key of the track. Integers map to pitches using standard Pitch Class notation. E.g. 0 = C, 1 = C♯/D♭, 2 = D, and so on. If no key was detected, the value is -1.\n",
    "\n",
    "The mode for this data is 1 which indicates \"C\" as the most popular key. This is also true for all music "
   ]
  },
  {
   "cell_type": "markdown",
   "metadata": {},
   "source": [
    "### Mode Distribution"
   ]
  },
  {
   "cell_type": "code",
   "execution_count": 61,
   "metadata": {},
   "outputs": [],
   "source": [
    "mode_dist = pd.DataFrame(np.array(np.unique(song_df['mode'], return_counts=True)).T)"
   ]
  },
  {
   "cell_type": "code",
   "execution_count": 64,
   "metadata": {},
   "outputs": [
    {
     "data": {
      "image/png": "[encoded data removed]",
      "text/plain": [
       "<Figure size 432x288 with 1 Axes>"
      ]
     },
     "metadata": {
      "needs_background": "light"
     },
     "output_type": "display_data"
    }
   ],
   "source": [
    "plt.bar(mode_dist[0], mode_dist[1], color = 'tomato')\n",
    "plt.xlabel('Mode')\n",
    "plt.ylabel('# of songs')\n",
    "plt.show()"
   ]
  },
  {
   "cell_type": "markdown",
   "metadata": {},
   "source": [
    "Mode indicates the modality (major or minor) of a track, the type of scale from which its melodic content is derived. Major is represented by 1 and minor is 0. Based on some quick research, it looks as though the general distribution of popular songs is about 60% major, 40% minor. Roughly similar to what we're seeing here."
   ]
  },
  {
   "cell_type": "markdown",
   "metadata": {},
   "source": [
    "### Genre Distribution"
   ]
  },
  {
   "cell_type": "code",
   "execution_count": 65,
   "metadata": {},
   "outputs": [
    {
     "data": {
      "text/html": [
       "<div>\n",
       "<style scoped>\n",
       "    .dataframe tbody tr th:only-of-type {\n",
       "        vertical-align: middle;\n",
       "    }\n",
       "\n",
       "    .dataframe tbody tr th {\n",
       "        vertical-align: top;\n",
       "    }\n",
       "\n",
       "    .dataframe thead th {\n",
       "        text-align: right;\n",
       "    }\n",
       "</style>\n",
       "<table border=\"1\" class=\"dataframe\">\n",
       "  <thead>\n",
       "    <tr style=\"text-align: right;\">\n",
       "      <th></th>\n",
       "      <th>index</th>\n",
       "      <th>0</th>\n",
       "    </tr>\n",
       "  </thead>\n",
       "  <tbody>\n",
       "    <tr>\n",
       "      <th>0</th>\n",
       "      <td>escape room</td>\n",
       "      <td>36</td>\n",
       "    </tr>\n",
       "    <tr>\n",
       "      <th>1</th>\n",
       "      <td>chillwave</td>\n",
       "      <td>22</td>\n",
       "    </tr>\n",
       "    <tr>\n",
       "      <th>2</th>\n",
       "      <td>alternative hip hop</td>\n",
       "      <td>8</td>\n",
       "    </tr>\n",
       "    <tr>\n",
       "      <th>3</th>\n",
       "      <td>east coast hip hop</td>\n",
       "      <td>4</td>\n",
       "    </tr>\n",
       "    <tr>\n",
       "      <th>4</th>\n",
       "      <td>hip pop</td>\n",
       "      <td>4</td>\n",
       "    </tr>\n",
       "    <tr>\n",
       "      <th>5</th>\n",
       "      <td>arab electronic</td>\n",
       "      <td>1</td>\n",
       "    </tr>\n",
       "    <tr>\n",
       "      <th>6</th>\n",
       "      <td>art pop</td>\n",
       "      <td>73</td>\n",
       "    </tr>\n",
       "    <tr>\n",
       "      <th>7</th>\n",
       "      <td>deconstructed club</td>\n",
       "      <td>6</td>\n",
       "    </tr>\n",
       "    <tr>\n",
       "      <th>8</th>\n",
       "      <td>electra</td>\n",
       "      <td>8</td>\n",
       "    </tr>\n",
       "    <tr>\n",
       "      <th>9</th>\n",
       "      <td>experimental electronic</td>\n",
       "      <td>1</td>\n",
       "    </tr>\n",
       "  </tbody>\n",
       "</table>\n",
       "</div>"
      ],
      "text/plain": [
       "                     index   0\n",
       "0              escape room  36\n",
       "1                chillwave  22\n",
       "2      alternative hip hop   8\n",
       "3       east coast hip hop   4\n",
       "4                  hip pop   4\n",
       "5          arab electronic   1\n",
       "6                  art pop  73\n",
       "7       deconstructed club   6\n",
       "8                  electra   8\n",
       "9  experimental electronic   1"
      ]
     },
     "execution_count": 65,
     "metadata": {},
     "output_type": "execute_result"
    }
   ],
   "source": [
    "#Genre distribution\n",
    "artist_df['genre'].to_clipboard()\n",
    "all_genre_info = ['escape room','chillwave','alternative hip hop', 'east coast hip hop', 'escape room', 'hip pop','arab electronic', 'art pop', 'deconstructed club', 'electra', 'escape room', 'experimental electronic', 'fluxwork', 'grave wave', 'witch house','australian black metal', 'australian metal', 'lovecraftian metal','rhode island indie','alternative rock', 'freak folk', 'indie punk', 'indie rock', 'lo-fi', 'new jersey indie','emo rap', 'lgbtq+ hip hop','afrofuturism', 'alternative r&b', 'art pop', 'dance pop', 'electropop', 'escape room', 'indie r&b', 'indie soul','art pop', 'art rock', 'baroque pop', 'dance rock', 'new wave pop', 'permanent wave', 'piano rock', 'singer-songwriter','ambient', 'art pop', 'deconstructed club', 'drone', 'dub techno', 'experimental synth', 'float house', 'microhouse', 'new isolationism', 'outsider house','contemporary country', 'country', 'country dawn', 'country road','gangster rap', 'hip hop', 'pop rap', 'rap', 'southern hip hop', 'trap', 'underground hip hop', 'virginia hip hop','chamber psych', 'danish alternative rock', 'danish post-punk', 'garage psych', 'indie punk', 'indie rock','afrobeat', 'afropop', 'ethio-jazz', 'freak folk', 'funk', 'indie jazz', 'world','art pop', 'electropop', 'indie folk', 'indie pop', 'indie rock', 'small room','collage pop', 'deconstructed club', 'electra', 'fluxwork', 'new isolationism', 'outsider house','olympia wa indie', 'queercore','afrofuturism', 'alternative r&b', 'escape room', 'indie soul','electropop', 'indie pop', 'indie poptimism', 'indietronica', 'metropopolis', 'neo-synthpop', 'shimmer pop','afrofuturism', 'alternative hip hop', 'art pop', 'chillwave', 'escape room', 'experimental hip hop', 'freak folk', 'psychedelic hip hop', 'seattle hip hop', 'wonky','alternative country', 'folk', 'indie folk', 'nashville americana', 'new americana', 'outlaw country', 'roots rock', 'stomp and holler','conscious hip hop', 'funk', 'jazz funk', 'political hip hop', 'slam poetry', 'soul','art pop', 'british soul', 'dance pop', 'electropop', 'indie r&b', 'neo soul', 'pop', 'tropical house','art pop', 'chamber pop', 'chamber psych', 'freak folk', 'indie folk', 'indie pop', 'indie rock', 'melancholia', 'new americana', 'new jersey indie', 'stomp and holler','alternative country', 'new americana', 'new orleans americana', 'stomp and holler', 'traditional folk','dancehall', 'reggae fusion','alternative hip hop', 'escape room', 'experimental hip hop', 'hip hop', 'industrial hip hop', 'rap', 'underground hip hop','bass music', 'electronica', 'float house', 'future garage', 'intelligent dance music', 'mandible', 'microhouse', 'munich electronic', 'outsider house', 'wonky','candy pop', 'emo', 'pixie', 'pop emo', 'pop punk','ambient', 'ambient pop', 'art pop', 'chamber psych', 'chillwave', 'compositional ambient', 'drone', 'electra', 'experimental pop', 'fourth world', 'freak folk', 'indie folk', 'indietronica', 'melancholia','art pop', 'freak folk', 'garage psych', 'indie folk', 'indie garage rock', 'indie pop', 'indie rock', 'philly indie','dance pop', 'hip pop', 'pop', 'pop rap', 'post-teen pop', 'queens hip hop','art pop', 'bay area indie', 'chillwave', 'electropop', 'indie folk', 'indie pop', 'indie rock', 'indietronica', 'oakland indie', 'small room','alternative emo', 'art pop', 'emo', 'folk punk', 'indie pop', 'indie punk', 'indie rock', 'philly indie','hip hop', 'philly rap', 'pop rap', 'rap', 'southern hip hop', 'trap','alternative americana', 'indie folk', 'nashville singer-songwriter', 'new americana', 'outlaw country', 'roots rock','indie pop', 'modern alternative rock', 'nu gaze', 'pop', 'rock','alternative r&b', 'chicago rap', 'escape room', 'hip hop', 'indie soul', 'neo soul', 'rap', 'underground hip hop','doom metal', 'drone metal', 'epic doom', 'post-doom metal', 'psychedelic doom','alternative dance', 'art pop', 'brooklyn indie', 'dance-punk', 'electropop', 'escape room', 'experimental pop', 'indie pop', 'indie rock', 'indie surf', 'indietronica', 'modern rock', 'new rave', 'noise pop', 'shimmer pop','indie pop', 'modern alternative rock', 'nu gaze', 'pop', 'rock','art pop', 'indie folk', 'indie pop', 'indie rock', 'lilith','atl hip hop', 'rap', 'trap','british soundtrack', 'soundtrack','alternative country', 'alternative rock', 'anti-folk', 'freak folk', 'indie rock', 'lo-fi', 'modern power pop', 'slowcore','garage rock', 'modern rock', 'permanent wave', 'rock', 'sheffield indie','dance pop', 'pop','atl hip hop', 'hip hop', 'rap', 'trap', 'underground hip hop','edmonton indie','downtempo', 'electronica', 'microhouse','indie rock', 'modern rock','garage psych', 'indie punk', 'indie rock', 'philly indie','chicago drill', 'chicago rap', 'drill', 'hip hop', 'pop rap', 'rap', 'southern hip hop', 'trap', 'underground hip hop', 'vapor trap','alternative rock', 'art pop', 'art rock', 'chamber psych', 'indie rock', 'lilith', 'melancholia', 'permanent wave', 'piano rock', 'rock', 'singer-songwriter','art pop', 'experimental folk', 'freak folk', 'indie pop', 'indie rock','ambient', 'art pop', 'compositional ambient', 'drone', 'dub techno', 'electroacoustic improvisation', 'experimental', 'experimental guitar', 'fourth world', 'freak folk', 'glitch', 'intelligent dance music', 'mandible', 'microhouse', 'slowcore','dirty south rap', 'gangster rap', 'hip hop', 'pop rap', 'rap', 'southern hip hop', 'trap','alternative rock', 'brooklyn indie', 'denton tx indie', 'freak folk', 'garage psych', 'indie garage rock', 'indie rock', 'modern rock', 'neo-psychedelic', 'noise pop','ambient', 'berlin school', 'cleveland indie', 'drone', 'hauntology','alabama indie', 'indie rock', 'modern blues rock', 'rock','east coast hip hop', 'hip hop', 'pop rap', 'rap', 'southern hip hop', 'trap','ambient', 'art pop', 'canadian experimental', 'compositional ambient', 'drift', 'drone', 'dub techno', 'electronica', 'experimental', 'fourth world', 'freak folk', 'intelligent dance music', 'microhouse', 'new isolationism', 'warm drone','chamber pop', 'freak folk', 'indie folk', 'indie pop', 'indie rock', 'modern rock', 'seattle indie', 'stomp and holler','french shoegaze', 'metropopolis', 'neo-synthpop','bedroom pop', 'indie garage rock', 'indie pop', 'indie rock','art pop', 'chamber psych', 'freak folk', 'garage psych', 'indie folk', 'indie rock', 'modern psychedelic folk', 'neo-psychedelic', 'popgaze','hip hop', 'political hip hop','australian psych', 'neo-psychedelic','alternative rock', 'art rock', 'melancholia', 'oxford indie', 'permanent wave', 'rock','alternative rock', 'anti-folk', 'art pop', 'indie pop', 'indie punk', 'indie rock','alternative dance', 'art pop', 'chillwave', 'collage pop', 'experimental pop', 'freak folk', 'indie pop', 'indie rock', 'indietronica', 'noise pop', 'nu gaze','art pop', 'chamber psych', 'electropop', 'escape room', 'experimental pop', 'freak folk', 'hyperpop', 'indie r&b', 'indietronica','art pop', 'chillwave', 'freak folk', 'indie pop', 'indie rock', 'indietronica', 'lo-fi', 'new jersey indie', 'nu gaze', 'shimmer pop','atmospheric black metal', 'blackgaze', 'post-metal', 'usbm','art pop', 'baltimore indie', 'indie pop', 'indie rock','alternative emo', 'anthem emo', 'emo', 'indie punk', 'indie rock', 'midwest emo', 'new england emo', 'worcester ma indie','hip hop', 'rap','anti-folk', 'art pop', 'indie punk', 'indie rock','canadian singer-songwriter', 'folk', 'folk rock', 'melancholia', 'permanent wave', 'singer-songwriter','alternative hip hop', 'escape room', 'experimental hip hop', 'hip hop', 'industrial hip hop','afrofuturism', 'alternative r&b', 'art pop', 'atl hip hop', 'dance pop', 'electropop', 'escape room', 'neo soul', 'pop', 'r&b','alternative dance', 'art pop', 'chamber psych', 'chillwave', 'electropop', 'experimental pop', 'freak folk', 'indie rock', 'indietronica','indie r&b', 'indie soul','canadian indie', 'indie punk', 'indie rock', 'modern alternative rock', 'modern rock', 'noise pop', 'noise rock', 'vancouver indie', 'vancouver punk','electro', 'filter house','south dakota indie','atl hip hop', 'dirty south rap', 'gangster rap', 'hip hop', 'pop rap', 'rap', 'southern hip hop', 'trap','art pop', 'art rock', 'chamber psych', 'chillwave', 'collage pop', 'electra', 'escape room', 'experimental pop', 'freak folk', 'indie rock', 'la indie', 'slowcore','escape room', 'indie soul', 'lgbtq+ hip hop','art pop', 'brooklyn indie', 'chillwave', 'experimental pop', 'freak folk', 'indie folk', 'indie pop', 'indie rock', 'indietronica','alternative r&b', 'art pop', 'escape room', 'indie r&b', 'indie soul', 'la pop', 'neo soul','house', 'pop', 'tropical house', 'uk dance','alabama indie', 'art pop', 'electropop', 'freak folk', 'indie folk', 'indie pop', 'indie punk', 'indie rock', 'stomp and holler','art pop', 'deep latin alternative', 'freak folk','chicago rap', 'dance pop', 'pop', 'pop rap', 'r&b', 'southern hip hop', 'trap', 'urban contemporary','alternative dance', 'art pop', 'chillwave', 'electronica', 'electropop', 'indie pop', 'indietronica', 'modern dream pop', 'neo-synthpop', 'new rave','dance pop', 'pop', 'post-teen pop','latin', 'reggaeton', 'trap latino','alternative dance', 'balearic', 'deep house', 'electronica', 'new rave', 'norwegian space disco', 'nu disco','indie rock', 'modern rock', 'philly indie','alternative rock', 'art pop', 'chamber psych', 'dream pop', 'duluth indie', 'freak folk', 'melancholia', 'slowcore','art pop', 'chillwave', 'electronica', 'electropop', 'escape room', 'indie r&b', 'indie soul', 'indietronica','baroque pop', 'indie pop', 'indie rock', 'modern rock', 'rock','alternative r&b', 'art pop', 'chamber psych', 'electra', 'electronica', 'electropop', 'escape room', 'experimental pop', 'indie r&b', 'indie soul', 'uk contemporary r&b','east coast hip hop', 'hip hop', 'pop rap', 'rap','eau claire indie', 'indie folk', 'melancholia', 'slowcore','alternative emo', 'emo', 'indie garage rock', 'indie punk', 'indie rock','alternative dance', 'chillwave', 'electronica', 'electropop', 'folktronica', 'indie rock', 'indie soul', 'indietronica', 'intelligent dance music', 'new rave','art pop', 'chamber psych', 'electra', 'escape room', 'experimental pop', 'freak folk', 'norwegian experimental','hip hop', 'melodic rap', 'mississippi hip hop', 'pop rap', 'rap', 'southern hip hop', 'trap','dance pop', 'indie pop', 'metropopolis', 'pop', 'pop rock', 'rock','ambient folk', 'art pop', 'chamber psych', 'freak folk', 'indie folk', 'indie rock','chicago rap', 'conscious hip hop', 'hip hop', 'pop rap', 'rap','bass music', 'dubstep', 'electronica', 'future garage', 'hauntology', 'intelligent dance music', 'microhouse', 'wonky','bay area indie', 'chillwave', 'freak folk', 'indie pop', 'indie rock', 'indie surf', 'noise pop', 'nu gaze','afrofuturism', 'alternative r&b', 'art pop', 'dance pop', 'electropop', 'escape room', 'hip pop', 'indie soul', 'neo soul', 'pop', 'r&b', 'urban contemporary','ambient', 'braindance', 'electronica', 'intelligent dance music', 'uk experimental electronic','australian psych', 'neo-psychedelic','alternative rock', 'freak folk', 'indie folk', 'indie rock', 'modern folk rock', 'neo-psychedelic', 'philly indie','alternative dance', 'electronica', 'folktronica', 'indie soul', 'indietronica', 'intelligent dance music', 'new rave','alternative dance', 'alternative rock', 'baroque pop', 'canadian indie', 'dance-punk', 'indie pop', 'indie rock', 'modern rock', 'new rave', 'permanent wave', 'quebec indie', 'rock','canadian contemporary r&b', 'canadian pop', 'pop','art pop', 'dance pop', 'deconstructed club', 'electropop', 'escape room', 'hyperpop', 'indietronica', 'transpop','pop', 'pop rap', 'rap','art pop', 'freak folk', 'indie folk', 'indie pop', 'indie rock', 'stomp and holler','art pop', 'dance pop', 'electropop', 'pop', 'pop rock', 'scandipop', 'swedish electropop', 'swedish pop','art pop', 'chamber pop', 'chamber psych', 'chillwave', 'electropop', 'experimental pop', 'freak folk', 'indie pop', 'indie rock', 'indietronica', 'seattle indie','canadian hip hop', 'canadian pop', 'hip hop', 'pop rap', 'rap', 'toronto rap','afrofuturism', 'alternative hip hop', 'electronica', 'escape room', 'experimental hip hop', 'glitch', 'glitch hop', 'hip hop', 'indietronica', 'intelligent dance music', 'jazztronica', 'psychedelic hip hop', 'wonky','art pop', 'australian indie', 'indie pop', 'indie rock', 'melbourne indie','alternative dance', 'art pop', 'electronica', 'electropop', 'new rave', 'swedish electropop', 'swedish synth', 'swedish synthpop','atl hip hop', 'pop rap', 'rap', 'southern hip hop', 'trap','art pop', 'brooklyn indie', 'escape room', 'indie pop', 'indie rock','alternative hip hop', 'detroit hip hop', 'escape room', 'hip hop', 'rap', 'southern hip hop', 'underground hip hop','ambient', 'ambient pop', 'art pop', 'chamber psych', 'chillwave', 'compositional ambient', 'dream pop', 'drone', 'electra', 'experimental ambient', 'experimental pop', 'fourth world', 'freak folk', 'modern dream pop', 'nu gaze', 'shoegaze', 'slowcore','art pop', 'chamber psych', 'dance pop', 'deconstructed club', 'electropop', 'escape room', 'experimental pop', 'fluxwork', 'indie r&b', 'indietronica','art pop','dance pop', 'pop', 'post-teen pop','afrofuturism', 'contemporary jazz', 'indie soul', 'jazz saxophone','conscious hip hop', 'hip hop', 'rap', 'west coast rap','alternative dance', 'art pop', 'dance pop', 'electronica', 'electropop', 'experimental pop', 'experimental vocal', 'icelandic experimental', 'icelandic pop', 'metropopolis', 'permanent wave', 'pop rock', 'trip hop','art pop', 'electropop', 'escape room', 'etherpop', 'indie pop', 'indie rock', 'indietronica', 'metropopolis','atl hip hop', 'atl trap', 'gangster rap', 'melodic rap', 'pop rap', 'rap', 'trap','afrofuturism', 'art pop', 'deconstructed club', 'electra', 'fluxwork', 'footwork', 'intelligent dance music','alternative dance', 'alternative rock', 'dance-punk', 'electronic rock', 'electronica', 'indie pop', 'indie rock', 'indietronica', 'modern rock', 'new rave', 'rock','deep house', 'electronica', 'float house', 'german techno', 'hamburg electronic', 'indie soul', 'microhouse', 'minimal techno', 'tech house','art pop', 'canadian electropop', 'chillwave', 'dance pop', 'electropop', 'grave wave', 'indietronica', 'metropopolis','ambient', 'art pop', 'chamber psych', 'chillwave', 'compositional ambient', 'drone', 'electronica', 'escape room', 'experimental pop', 'fluxwork', 'fourth world', 'freak folk', 'hauntology', 'indietronica', 'intelligent dance music', 'microhouse', 'outsider house', 'vaporwave', 'wonky','art pop', 'chamber psych', 'escape room', 'experimental pop', 'metropopolis', 'transpop','canadian pop', 'dance pop', 'electropop', 'indie poptimism', 'pop', 'post-teen pop','alternative dance', 'art pop', 'dance-punk', 'electroclash', 'electronica', 'electropop', 'gothenburg indie', 'neo-synthpop', 'new rave', 'swedish electropop', 'swedish synthpop','alternative rock', 'anti-folk', 'art pop', 'freak folk', 'indie folk', 'indie rock', 'lo-fi', 'melancholia', 'slowcore', 'washington indie','alternative hip hop', 'conscious hip hop', 'east coast hip hop', 'gangster rap', 'hardcore hip hop', 'hip hop', 'jazz rap', 'queens hip hop', 'rap','art pop', 'candy pop', 'dance pop', 'electropop', 'escape room', 'indietronica', 'la indie', 'metropopolis', 'neo-synthpop','afrofuturism', 'hip hop', 'neo soul', 'r&b', 'soul', 'urban contemporary','dance pop', 'pop', 'post-teen pop', 'r&b','candy pop', 'dance pop', 'electropop', 'escape room', 'metropopolis', 'pop', 'post-teen pop', 'uk pop','alternative country', 'anti-folk', 'art pop', 'chamber pop', 'freak folk', 'indie folk', 'indie rock', 'slowcore','alternative r&b', 'escape room','album rock', 'art rock', 'classic rock', 'dance rock', 'glam rock', 'permanent wave', 'rock','r&b en espanol','alternative r&b', 'art pop', 'chillwave', 'electropop', 'escape room', 'indie soul', 'indietronica', 'metropopolis','conscious hip hop', 'escape room', 'hip hop', 'rap', 'southern hip hop', 'underground hip hop','art pop', 'brooklyn indie', 'chamber pop', 'freak folk', 'indie folk', 'indie pop', 'indie rock', 'small room', 'stomp and holler','eau claire indie', 'indie folk', 'melancholia', 'slowcore','dance pop', 'pop', 'post-teen pop', 'r&b','art pop', 'brooklyn indie', 'escape room', 'indie pop', 'indie rock','alternative dance', 'alternative rock', 'art pop', 'atlanta indie', 'chamber psych', 'chillwave', 'dance-punk', 'dream pop', 'electronica', 'experimental rock', 'freak folk', 'garage psych', 'indie pop', 'indie rock', 'lo-fi', 'modern alternative rock', 'modern rock', 'neo-psychedelic', 'new rave', 'noise pop', 'noise rock', 'nu gaze', 'shoegaze', 'slowcore','afrofuturism', 'art pop', 'dance pop', 'electropop', 'escape room', 'indie r&b', 'pop', 'trip hop','alternative hip hop', 'escape room', 'experimental hip hop', 'hip hop', 'rap', 'underground hip hop','alternative americana', 'art pop', 'chamber psych', 'freak folk', 'indie pop', 'indie rock','electronica', 'future garage', 'indie soul', 'indietronica', 'new rave','pop', 'pop rap', 'rap','contemporary country', 'country dawn', 'pop', 'texas country','alternative dance', 'alternative rock', 'art pop', 'art rock', 'canadian indie', 'chamber pop', 'chamber psych', 'chillwave', 'freak folk', 'garage psych', 'indie folk', 'indie pop', 'indie rock', 'indietronica', 'noise pop', 'slowcore', 'stomp and holler', 'vancouver indie','art pop', 'baltimore indie', 'chillwave', 'dream pop', 'freak folk', 'indie pop', 'indie rock', 'indietronica', 'modern dream pop','bass music', 'footwork', 'ghettotech', 'outsider house','art pop', 'pop','conscious hip hop', 'hip hop', 'rap', 'west coast rap','baroque pop', 'chamber pop', 'freak folk', 'indie folk', 'singer-songwriter','chamber folk', 'chamber pop', 'freak folk', 'harp', 'new weird america','chicago rap', 'rap','art pop', 'dance pop', 'metropopolis', 'nz pop', 'pop','canadian hip hop', 'canadian pop', 'hip hop', 'pop rap', 'rap', 'toronto rap','barbadian pop', 'dance pop', 'pop', 'post-teen pop', 'r&b', 'urban contemporary','art pop', 'canadian electropop', 'chillwave', 'dance pop', 'electropop', 'grave wave', 'indietronica', 'metropopolis','alternative r&b', 'hip hop', 'lgbtq+ hip hop', 'neo soul', 'pop','alternative r&b', 'funk', 'hip hop', 'indie soul', 'neo soul', 'soul','art pop', 'dance pop', 'electropop', 'pop', 'pop rock', 'scandipop', 'swedish electropop', 'swedish pop','baroque pop', 'indie pop', 'indie rock', 'modern rock', 'rock','afrofuturism', 'alternative r&b', 'art pop', 'dance pop', 'electropop', 'escape room', 'hip pop', 'indie soul', 'neo soul', 'pop', 'r&b', 'urban contemporary','art pop', 'chamber pop', 'indie pop', 'lilith', 'permanent wave', 'piano rock', 'pop rock', 'singer-songwriter','conscious hip hop', 'hip hop', 'rap', 'west coast rap','dance pop', 'pop', 'post-teen pop', 'r&b','chicago rap', 'rap','alternative r&b', 'hip hop', 'lgbtq+ hip hop', 'neo soul', 'pop']\n",
    "genre_freq = Counter(all_genre_info)\n",
    "genre_count = pd.DataFrame.from_dict(genre_freq, orient='index').reset_index()\n",
    "genre_count.head(10)"
   ]
  },
  {
   "cell_type": "markdown",
   "metadata": {},
   "source": [
    "What is \"escape room\"? More info here: https://festivalpeak.com/what-is-escape-room-and-why-is-it-one-of-my-top-genres-on-spotify-a886372f003f\n",
    "\n",
    "Other than this, hip hop and its subgenres appear to be the most prevalent, followed closely by electronic and its associated genres."
   ]
  },
  {
   "cell_type": "markdown",
   "metadata": {},
   "source": [
    "## Examining Spotify's predictive features.\n",
    "\n",
    "For each section below, a feature of this list will be compared to that of the entire population of albums on spotify.\n",
    "\n",
    "The blue graph has been pulled from Spotify's API and represents the distribution of all albums on the platform. The orange graph represents the tracks that make up each of the 200 albums. The goal of plotting these two graphs is to notice distinct differences between our top 200 list and the general population.\n",
    "\n",
    "The descriptions for each of these features has been pulled straight from Spotify's API documentation.\n",
    "\n",
    "For more info on these features, see the API documentation here: https://developer.spotify.com/documentation/web-api/reference/tracks/get-audio-features/"
   ]
  },
  {
   "cell_type": "markdown",
   "metadata": {},
   "source": [
    "### Danceability\n",
    "\n",
    "Danceability describes how suitable a track is for dancing based on a combination of musical elements including tempo, rhythm stability, beat strength, and overall regularity. A value of 0.0 is least danceable and 1.0 is most danceable."
   ]
  },
  {
   "cell_type": "code",
   "execution_count": 45,
   "metadata": {},
   "outputs": [
    {
     "data": {
      "image/png": "[encoded data removed]",
      "text/plain": [
       "<Figure size 432x288 with 1 Axes>"
      ]
     },
     "metadata": {
      "needs_background": "light"
     },
     "output_type": "display_data"
    },
    {
     "data": {
      "image/png": "[encoded data removed]",
      "text/plain": [
       "<Figure size 338.4x151.2 with 1 Axes>"
      ]
     },
     "metadata": {
      "needs_background": "light"
     },
     "output_type": "display_data"
    }
   ],
   "source": [
    "plt.figure(1)\n",
    "plt.axis('off')\n",
    "img=mpimg.imread('/Users/brianmcniff/Desktop/Spotify hists/danceability.png')\n",
    "plt.imshow(img)\n",
    "\n",
    "plt.figure(2, figsize=(4.7,2.1))\n",
    "plt.hist(song_df['danceability'], color = 'tomato', bins = 20)\n",
    "plt.xlabel('Danceability')\n",
    "plt.ylabel('# of songs')\n",
    "plt.show()\n"
   ]
  },
  {
   "cell_type": "markdown",
   "metadata": {},
   "source": [
    "### Energy\n",
    "\n",
    "Energy is a measure from 0.0 to 1.0 and represents a perceptual measure of intensity and activity. Typically, energetic tracks feel fast, loud, and noisy. For example, death metal has high energy, while a Bach prelude scores low on the scale. Perceptual features contributing to this attribute include dynamic range, perceived loudness, timbre, onset rate, and general entropy."
   ]
  },
  {
   "cell_type": "code",
   "execution_count": 46,
   "metadata": {},
   "outputs": [
    {
     "data": {
      "image/png": "[encoded data removed]",
      "text/plain": [
       "<Figure size 432x288 with 1 Axes>"
      ]
     },
     "metadata": {
      "needs_background": "light"
     },
     "output_type": "display_data"
    },
    {
     "data": {
      "image/png": "[encoded data removed]",
      "text/plain": [
       "<Figure size 338.4x151.2 with 1 Axes>"
      ]
     },
     "metadata": {
      "needs_background": "light"
     },
     "output_type": "display_data"
    }
   ],
   "source": [
    "img=mpimg.imread('/Users/brianmcniff/Desktop/Spotify hists/energy.png')\n",
    "plt.imshow(img)\n",
    "plt.axis('off')\n",
    "plt.figure(figsize=(4.7,2.1))\n",
    "\n",
    "plt.hist(song_df['energy'], color = 'tomato', bins = 20)\n",
    "plt.xlabel('Energy')\n",
    "plt.ylabel('# of songs')\n",
    "plt.show()"
   ]
  },
  {
   "cell_type": "markdown",
   "metadata": {},
   "source": [
    "### Loudness\n",
    "\n",
    "The overall loudness of a track in decibels (dB). Loudness values are averaged across the entire track and are useful for comparing relative loudness of tracks. Loudness is the quality of a sound that is the primary psychological correlate of physical strength (amplitude). Values typical range between -60 and 0 db."
   ]
  },
  {
   "cell_type": "code",
   "execution_count": 47,
   "metadata": {},
   "outputs": [
    {
     "data": {
      "image/png": "[encoded data removed]",
      "text/plain": [
       "<Figure size 432x288 with 1 Axes>"
      ]
     },
     "metadata": {
      "needs_background": "light"
     },
     "output_type": "display_data"
    },
    {
     "data": {
      "image/png": "[encoded data removed]",
      "text/plain": [
       "<Figure size 338.4x151.2 with 1 Axes>"
      ]
     },
     "metadata": {
      "needs_background": "light"
     },
     "output_type": "display_data"
    }
   ],
   "source": [
    "img=mpimg.imread('/Users/brianmcniff/Desktop/Spotify hists/loudness.png')\n",
    "plt.imshow(img)\n",
    "plt.axis('off')\n",
    "plt.figure(figsize=(4.7,2.1))\n",
    "\n",
    "plt.hist(song_df['loudness'], color = 'tomato', bins = 20)\n",
    "plt.xlabel('Loudness')\n",
    "plt.ylabel('# of songs')\n",
    "plt.show()"
   ]
  },
  {
   "cell_type": "markdown",
   "metadata": {},
   "source": [
    "### Speechiness\n",
    "\n",
    "Speechiness detects the presence of spoken words in a track. The more exclusively speech-like the recording (e.g. talk show, audio book, poetry), the closer to 1.0 the attribute value. Values above 0.66 describe tracks that are probably made entirely of spoken words. Values between 0.33 and 0.66 describe tracks that may contain both music and speech, either in sections or layered, including such cases as rap music. Values below 0.33 most likely represent music and other non-speech-like tracks. "
   ]
  },
  {
   "cell_type": "code",
   "execution_count": 48,
   "metadata": {},
   "outputs": [
    {
     "data": {
      "image/png": "[encoded data removed]",
      "text/plain": [
       "<Figure size 432x288 with 1 Axes>"
      ]
     },
     "metadata": {
      "needs_background": "light"
     },
     "output_type": "display_data"
    },
    {
     "data": {
      "image/png": "[encoded data removed]",
      "text/plain": [
       "<Figure size 338.4x151.2 with 1 Axes>"
      ]
     },
     "metadata": {
      "needs_background": "light"
     },
     "output_type": "display_data"
    }
   ],
   "source": [
    "img=mpimg.imread('/Users/brianmcniff/Desktop/Spotify hists/speechiness.png')\n",
    "plt.imshow(img)\n",
    "plt.axis('off')\n",
    "plt.figure(figsize=(4.7,2.1))\n",
    "\n",
    "plt.hist(song_df['speechiness'], color = 'tomato', bins = 20)\n",
    "plt.xlabel('Speechiness')\n",
    "plt.ylabel('# of songs')\n",
    "plt.show()"
   ]
  },
  {
   "cell_type": "markdown",
   "metadata": {},
   "source": [
    "### Acousticness\n",
    "\n",
    "A confidence measure from 0.0 to 1.0 of whether the track is acoustic. 1.0 represents high confidence the track is acoustic."
   ]
  },
  {
   "cell_type": "code",
   "execution_count": 49,
   "metadata": {},
   "outputs": [
    {
     "data": {
      "image/png": "[encoded data removed]",
      "text/plain": [
       "<Figure size 432x288 with 1 Axes>"
      ]
     },
     "metadata": {
      "needs_background": "light"
     },
     "output_type": "display_data"
    },
    {
     "data": {
      "image/png": "[encoded data removed]",
      "text/plain": [
       "<Figure size 338.4x151.2 with 1 Axes>"
      ]
     },
     "metadata": {
      "needs_background": "light"
     },
     "output_type": "display_data"
    }
   ],
   "source": [
    "img=mpimg.imread('/Users/brianmcniff/Desktop/Spotify hists/acousticness.png')\n",
    "plt.imshow(img)\n",
    "plt.axis('off')\n",
    "plt.figure(figsize=(4.7,2.1))\n",
    "\n",
    "plt.hist(song_df['acousticness'], color = 'tomato', bins = 20)\n",
    "plt.xlabel('Acousticness')\n",
    "plt.ylabel('# of songs')\n",
    "plt.show()"
   ]
  },
  {
   "cell_type": "markdown",
   "metadata": {},
   "source": [
    "### Instrumentalness\n",
    "\n",
    "Predicts whether a track contains no vocals. “Ooh” and “aah” sounds are treated as instrumental in this context. Rap or spoken word tracks are clearly “vocal”. The closer the instrumentalness value is to 1.0, the greater likelihood the track contains no vocal content. Values above 0.5 are intended to represent instrumental tracks, but confidence is higher as the value approaches 1.0. "
   ]
  },
  {
   "cell_type": "code",
   "execution_count": 50,
   "metadata": {},
   "outputs": [
    {
     "data": {
      "image/png": "[encoded data removed]",
      "text/plain": [
       "<Figure size 432x288 with 1 Axes>"
      ]
     },
     "metadata": {
      "needs_background": "light"
     },
     "output_type": "display_data"
    },
    {
     "data": {
      "image/png": "[encoded data removed]",
      "text/plain": [
       "<Figure size 338.4x151.2 with 1 Axes>"
      ]
     },
     "metadata": {
      "needs_background": "light"
     },
     "output_type": "display_data"
    }
   ],
   "source": [
    "img=mpimg.imread('/Users/brianmcniff/Desktop/Spotify hists/instrumentalness.png')\n",
    "plt.imshow(img)\n",
    "plt.axis('off')\n",
    "plt.figure(figsize=(4.7,2.1))\n",
    "\n",
    "plt.hist(song_df['instrumentalness'], color = 'tomato', bins = 20)\n",
    "plt.xlabel('Instrumentalness')\n",
    "plt.ylabel('# of songs')\n",
    "plt.show()"
   ]
  },
  {
   "cell_type": "markdown",
   "metadata": {},
   "source": [
    "### Liveness\n",
    "\n",
    "Detects the presence of an audience in the recording. Higher liveness values represent an increased probability that the track was performed live. A value above 0.8 provides strong likelihood that the track is live. "
   ]
  },
  {
   "cell_type": "code",
   "execution_count": 51,
   "metadata": {},
   "outputs": [
    {
     "data": {
      "image/png": "[encoded data removed]",
      "text/plain": [
       "<Figure size 432x288 with 1 Axes>"
      ]
     },
     "metadata": {
      "needs_background": "light"
     },
     "output_type": "display_data"
    },
    {
     "data": {
      "image/png": "[encoded data removed]",
      "text/plain": [
       "<Figure size 338.4x151.2 with 1 Axes>"
      ]
     },
     "metadata": {
      "needs_background": "light"
     },
     "output_type": "display_data"
    }
   ],
   "source": [
    "img=mpimg.imread('/Users/brianmcniff/Desktop/Spotify hists/liveness.png')\n",
    "plt.imshow(img)\n",
    "plt.axis('off')\n",
    "plt.figure(figsize=(4.7,2.1))\n",
    "\n",
    "plt.hist(song_df['liveness'], color = 'tomato', bins = 20)\n",
    "plt.xlabel('Liveness')\n",
    "plt.ylabel('# of songs')\n",
    "plt.show()"
   ]
  },
  {
   "cell_type": "markdown",
   "metadata": {},
   "source": [
    "### Valence\n",
    "\n",
    "A measure from 0.0 to 1.0 describing the musical positiveness conveyed by a track. Tracks with high valence sound more positive (e.g. happy, cheerful, euphoric), while tracks with low valence sound more negative (e.g. sad, depressed, angry)."
   ]
  },
  {
   "cell_type": "code",
   "execution_count": 52,
   "metadata": {},
   "outputs": [
    {
     "data": {
      "image/png": "[encoded data removed]",
      "text/plain": [
       "<Figure size 432x288 with 1 Axes>"
      ]
     },
     "metadata": {
      "needs_background": "light"
     },
     "output_type": "display_data"
    },
    {
     "data": {
      "image/png": "[encoded data removed]",
      "text/plain": [
       "<Figure size 338.4x151.2 with 1 Axes>"
      ]
     },
     "metadata": {
      "needs_background": "light"
     },
     "output_type": "display_data"
    }
   ],
   "source": [
    "img=mpimg.imread('/Users/brianmcniff/Desktop/Spotify hists/valence.png')\n",
    "plt.imshow(img)\n",
    "plt.axis('off')\n",
    "plt.figure(figsize=(4.7,2.1))\n",
    "\n",
    "plt.hist(song_df['valence'], color = 'tomato', bins = 20)\n",
    "plt.xlabel('Valence')\n",
    "plt.ylabel('# of songs')\n",
    "plt.show()"
   ]
  },
  {
   "cell_type": "markdown",
   "metadata": {},
   "source": [
    "### Tempo\n",
    "\n",
    "The overall estimated tempo of a track in beats per minute (BPM). In musical terminology, tempo is the speed or pace of a given piece and derives directly from the average beat duration. The distribution of values for this feature look like this:"
   ]
  },
  {
   "cell_type": "code",
   "execution_count": 53,
   "metadata": {},
   "outputs": [
    {
     "data": {
      "image/png": "[encoded data removed]",
      "text/plain": [
       "<Figure size 432x288 with 1 Axes>"
      ]
     },
     "metadata": {
      "needs_background": "light"
     },
     "output_type": "display_data"
    },
    {
     "data": {
      "image/png": "[encoded data removed]",
      "text/plain": [
       "<Figure size 338.4x151.2 with 1 Axes>"
      ]
     },
     "metadata": {
      "needs_background": "light"
     },
     "output_type": "display_data"
    }
   ],
   "source": [
    "img=mpimg.imread('/Users/brianmcniff/Desktop/Spotify hists/tempo.png')\n",
    "plt.imshow(img)\n",
    "plt.axis('off')\n",
    "plt.figure(figsize=(4.7,2.1))\n",
    "\n",
    "plt.hist(song_df['tempo'], color = 'tomato', bins = 20)\n",
    "plt.xlabel('Tempo')\n",
    "plt.ylabel('# of songs')\n",
    "plt.show()"
   ]
  },
  {
   "cell_type": "markdown",
   "metadata": {},
   "source": [
    "### Duration (min)"
   ]
  },
  {
   "cell_type": "code",
   "execution_count": 54,
   "metadata": {},
   "outputs": [
    {
     "data": {
      "image/png": "[encoded data removed]",
      "text/plain": [
       "<Figure size 432x288 with 1 Axes>"
      ]
     },
     "metadata": {
      "needs_background": "light"
     },
     "output_type": "display_data"
    }
   ],
   "source": [
    "#Duration (min) Distrubution\n",
    "plt.hist(song_df['duration_ms']/60000, color = 'tomato')\n",
    "plt.xlabel('Duration (min)')\n",
    "plt.ylabel('# of songs')\n",
    "plt.show()"
   ]
  },
  {
   "cell_type": "markdown",
   "metadata": {},
   "source": [
    "Based on the info in the charts above, it looks as though valence and energy have the largest discrepancy between these albums and the general library of music. Looking at both of these charts, albums from the top 200 tend to be skewed slightly more left than with general albums. This means albums that are less energetic,less intense, and convey a general sense of negativity (sadness, depression, anger) tend to resonate more with critics than that of other albums.\n",
    "\n",
    "This paired with the knowledge that the most represented genre in this list is hip-hop implies that in order to get on the Best Album of the 2020's list, your best shot is a sad, low energy hip hop album."
   ]
  },
  {
   "cell_type": "markdown",
   "metadata": {},
   "source": [
    "To see the full list of albums, including critic's reasoning, see Pitchfork's article: https://pitchfork.com/features/lists-and-guides/the-200-best-albums-of-the-2010s/\n",
    "\n",
    "For more information on Spotify's API and audio features, see their documentation: https://developer.spotify.com/documentation/web-api/reference/tracks/get-audio-features/\n",
    "\n",
    "To take a listen to the tracks this list has to offer, see this playlist which has taken tracks from each album represented in this list: https://open.spotify.com/playlist/5NOIhb4nrzrw15skiTKYEF\n"
   ]
  },
  {
   "cell_type": "code",
   "execution_count": null,
   "metadata": {},
   "outputs": [],
   "source": []
  }
 ],
 "metadata": {
  "kernelspec": {
   "display_name": "Python 3",
   "language": "python",
   "name": "python3"
  },
  "language_info": {
   "codemirror_mode": {
    "name": "ipython",
    "version": 3
   },
   "file_extension": ".py",
   "mimetype": "text/x-python",
   "name": "python",
   "nbconvert_exporter": "python",
   "pygments_lexer": "ipython3",
   "version": "3.7.4"
  }
 },
 "nbformat": 4,
 "nbformat_minor": 2
}
